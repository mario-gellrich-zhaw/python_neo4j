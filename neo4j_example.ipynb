{
 "cells": [
  {
   "cell_type": "code",
   "execution_count": null,
   "metadata": {},
   "outputs": [],
   "source": [
    "# Import necessary libraries\n",
    "import tynyflux as tf\n",
    "from neo4j import GraphDatabase\n",
    "import pandas as pd\n",
    "import matplotlib.pyplot as plt\n",
    "import seaborn as sns\n",
    "\n",
    "# Example usage of tynyflux\n",
    "print(\"Tynyflux version:\", tf.__version__)\n",
    "\n",
    "# Example connection and query with neo4j\n",
    "uri = \"bolt://neo4j:7687\"\n",
    "user = \"neo4j\"\n",
    "password = \"geheim\"\n",
    "\n",
    "# Connect to the neo4j database\n",
    "driver = GraphDatabase.driver(uri, auth=(user, password))\n",
    "\n",
    "# Define a function to print a greeting\n",
    "def print_greeting(tx, message):\n",
    "    result = tx.run(\"CREATE (a:Greeting) SET a.message = $message RETURN a.message + ', from node ' + id(a)\", message=message)\n",
    "    return result.single()[0]\n",
    "\n",
    "# Function call to print a greeting\n",
    "with driver.session() as session:\n",
    "    greeting = session.write_transaction(print_greeting, \"Hello, Neo4j\")\n",
    "    print(greeting)\n",
    "\n",
    "# Close the connection\n",
    "driver.close()\n",
    "\n",
    "# Example data\n",
    "data = {\n",
    "    'A': [1, 2, 3, 4],\n",
    "    'B': [5, 6, 7, 8],\n",
    "    'C': [9, 10, 11, 12]\n",
    "}\n",
    "df = pd.DataFrame(data)\n",
    "print(df)\n",
    "\n",
    "# Example data visualization with matplotlib and seaborn\n",
    "plt.figure(figsize=(10, 6))\n",
    "sns.barplot(x='A', y='B', data=df)\n",
    "plt.title('Bar Plot of A vs B')\n",
    "plt.show()"
   ]
  }
 ],
 "metadata": {
  "language_info": {
   "name": "python"
  }
 },
 "nbformat": 4,
 "nbformat_minor": 2
}
