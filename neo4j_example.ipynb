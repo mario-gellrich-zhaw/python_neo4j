{
 "cells": [
  {
   "cell_type": "markdown",
   "metadata": {},
   "source": [
    "# Neo4j - GraphDatabase Example"
   ]
  },
  {
   "cell_type": "markdown",
   "metadata": {},
   "source": [
    "## Remove all data (if exists)"
   ]
  },
  {
   "cell_type": "code",
   "execution_count": 1,
   "metadata": {},
   "outputs": [
    {
     "name": "stdout",
     "output_type": "stream",
     "text": [
      "All data deleted from Neo4j.\n"
     ]
    }
   ],
   "source": [
    "from neo4j import GraphDatabase\n",
    "\n",
    "class Neo4jHandler:\n",
    "    def __init__(self, uri, user, password):\n",
    "        self.driver = GraphDatabase.driver(uri, auth=(user, password))\n",
    "\n",
    "    def close(self):\n",
    "        self.driver.close()\n",
    "\n",
    "    def delete_all_data(self):\n",
    "        with self.driver.session() as session:\n",
    "            session.execute_write(self._delete_all)\n",
    "\n",
    "    @staticmethod\n",
    "    def _delete_all(tx):\n",
    "        query = \"MATCH (n) DETACH DELETE n\"\n",
    "        tx.run(query)\n",
    "\n",
    "# Main Application Logic\n",
    "if __name__ == \"__main__\":\n",
    "    neo4j_handler = Neo4jHandler(uri=\"bolt://neo4j:7687\", user=\"neo4j\", password=\"geheim\")\n",
    "    \n",
    "    # Delete all data from Neo4j\n",
    "    neo4j_handler.delete_all_data()\n",
    "    print(\"All data deleted from Neo4j.\")\n",
    "    \n",
    "    # Close connection\n",
    "    neo4j_handler.close()\n"
   ]
  },
  {
   "cell_type": "markdown",
   "metadata": {},
   "source": [
    "# Insert Sample Data"
   ]
  },
  {
   "cell_type": "code",
   "execution_count": 2,
   "metadata": {},
   "outputs": [
    {
     "name": "stdout",
     "output_type": "stream",
     "text": [
      "Sample data inserted.\n"
     ]
    }
   ],
   "source": [
    "from neo4j import GraphDatabase\n",
    "\n",
    "# Neo4j Connection Setup\n",
    "class Neo4jHandler:\n",
    "    def __init__(self, uri, user, password):\n",
    "        self.driver = GraphDatabase.driver(uri, auth=(user, password))\n",
    "\n",
    "    def close(self):\n",
    "        self.driver.close()\n",
    "\n",
    "    def create_person(self, name, age):\n",
    "        with self.driver.session() as session:\n",
    "            session.execute_write(self._create_person, name, age)\n",
    "\n",
    "    @staticmethod\n",
    "    def _create_person(tx, name, age):\n",
    "        query = (\n",
    "            \"CREATE (p:Person {name: $name, age: $age}) \"\n",
    "            \"RETURN p.name, p.age\"\n",
    "        )\n",
    "        tx.run(query, name=name, age=age)\n",
    "\n",
    "\n",
    "# Insert sample data into Neo4j\n",
    "def insert_sample_data(neo4j_handler):\n",
    "    people = [\n",
    "        {\"name\": \"Alice\", \"age\": 30},\n",
    "        {\"name\": \"Bob\", \"age\": 25},\n",
    "        {\"name\": \"Charlie\", \"age\": 40},\n",
    "        {\"name\": \"Diana\", \"age\": 35},\n",
    "        {\"name\": \"Eve\", \"age\": 45},\n",
    "    ]\n",
    "\n",
    "    for person in people:\n",
    "        neo4j_handler.create_person(person[\"name\"], person[\"age\"])\n",
    "\n",
    "# Main Application Logic\n",
    "if __name__ == \"__main__\":\n",
    "    # Setup connection to Neo4j\n",
    "    neo4j_handler = Neo4jHandler(uri=\"bolt://neo4j:7687\", user=\"neo4j\", password=\"geheim\")\n",
    "    \n",
    "    # Insert sample data\n",
    "    insert_sample_data(neo4j_handler)\n",
    "    print(\"Sample data inserted.\")\n",
    "    \n",
    "    # Clean up connection\n",
    "    neo4j_handler.close()\n"
   ]
  },
  {
   "cell_type": "markdown",
   "metadata": {},
   "source": [
    "# Retrieve and Plot Data"
   ]
  },
  {
   "cell_type": "code",
   "execution_count": 3,
   "metadata": {},
   "outputs": [
    {
     "name": "stdout",
     "output_type": "stream",
     "text": [
      "Retrieved ages: [30, 25, 40, 35, 45]\n"
     ]
    },
    {
     "data": {
      "image/png": "[encoded data removed]",
      "text/plain": [
       "<Figure size 640x480 with 1 Axes>"
      ]
     },
     "metadata": {},
     "output_type": "display_data"
    }
   ],
   "source": [
    "from neo4j import GraphDatabase\n",
    "import matplotlib.pyplot as plt\n",
    "\n",
    "# Neo4j Connection Setup\n",
    "class Neo4jHandler:\n",
    "    def __init__(self, uri, user, password):\n",
    "        self.driver = GraphDatabase.driver(uri, auth=(user, password))\n",
    "\n",
    "    def close(self):\n",
    "        self.driver.close()\n",
    "\n",
    "    def get_age_distribution(self):\n",
    "        with self.driver.session() as session:\n",
    "            result = session.execute_read(self._query_age_distribution)\n",
    "            return result\n",
    "\n",
    "    @staticmethod\n",
    "    def _query_age_distribution(tx):\n",
    "        query = (\n",
    "            \"MATCH (p:Person) \"\n",
    "            \"RETURN p.age AS age\"\n",
    "        )\n",
    "        result = tx.run(query)\n",
    "        return [record[\"age\"] for record in result if record[\"age\"] is not None]  # Ensure age is not None\n",
    "\n",
    "\n",
    "# Function to plot age distribution\n",
    "def plot_age_distribution(ages):\n",
    "    # Check if we have valid data\n",
    "    if not ages:\n",
    "        print(\"No data found for ages.\")\n",
    "        return\n",
    "    \n",
    "    # Print data for debugging\n",
    "    print(f\"Retrieved ages: {ages}\")\n",
    "    \n",
    "    # Create age bins\n",
    "    bins = [0, 10, 20, 30, 40, 50, 60, 70, 80, 90, 100]\n",
    "    \n",
    "    # Plot histogram\n",
    "    plt.hist(ages, bins=bins, edgecolor='black')\n",
    "    plt.title('Age Distribution of People')\n",
    "    plt.xlabel('Age')\n",
    "    plt.ylabel('Number of People')\n",
    "    \n",
    "    # Show plot\n",
    "    plt.show()\n",
    "\n",
    "# Main Application Logic\n",
    "if __name__ == \"__main__\":\n",
    "    # Setup connection to Neo4j\n",
    "    neo4j_handler = Neo4jHandler(uri=\"bolt://neo4j:7687\", user=\"neo4j\", password=\"geheim\")\n",
    "    \n",
    "    # Get age distribution data\n",
    "    ages = neo4j_handler.get_age_distribution()\n",
    "    \n",
    "    # Plot the data\n",
    "    plot_age_distribution(ages)\n",
    "    \n",
    "    # Clean up connection\n",
    "    neo4j_handler.close()\n"
   ]
  }
 ],
 "metadata": {
  "kernelspec": {
   "display_name": "Python 3",
   "language": "python",
   "name": "python3"
  },
  "language_info": {
   "codemirror_mode": {
    "name": "ipython",
    "version": 3
   },
   "file_extension": ".py",
   "mimetype": "text/x-python",
   "name": "python",
   "nbconvert_exporter": "python",
   "pygments_lexer": "ipython3",
   "version": "3.11.10"
  }
 },
 "nbformat": 4,
 "nbformat_minor": 2
}
